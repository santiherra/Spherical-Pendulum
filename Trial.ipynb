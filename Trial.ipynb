{
 "cells": [
  {
   "cell_type": "code",
   "execution_count": 5,
   "metadata": {},
   "outputs": [],
   "source": [
    "import numpy as np\n",
    "import scipy.special as spe\n",
    "import matplotlib.pyplot as plt\n",
    "from scipy.integrate import quad\n",
    "from scipy.integrate import odeint\n",
    "from numpy.polynomial import polynomial as P"
   ]
  },
  {
   "cell_type": "code",
   "execution_count": 14,
   "metadata": {},
   "outputs": [
    {
     "data": {
      "image/png": "[encoded data removed]",
      "text/plain": [
       "<Figure size 432x288 with 1 Axes>"
      ]
     },
     "metadata": {
      "needs_background": "light"
     },
     "output_type": "display_data"
    }
   ],
   "source": [
    "def pol_an(S, m, l, g):\n",
    "    th0, ph0, dth0, dph0 = S\n",
    "    p_ph = np.sin(th0)**2*dph0\n",
    "    w_0 = np.sqrt(g/l)\n",
    "    k = np.cos(th0)\n",
    "    h = .5*dth0**2+p_ph**2/2/np.sin(th0)**2-w_0**2*np.cos(th0)\n",
    "    p = (h-p_ph**2/2, w_0**2*k, -h*k**2, -w_0**2*k**3)\n",
    "    roots = P.polyroots(p)\n",
    "    return p, roots\n",
    "\n",
    "def pol(x, p):\n",
    "    return p[0]+p[1]*x+p[2]*x**2+p[3]*x**3\n",
    "\n",
    "S = np.array([np.pi/5, 0, 0, .5])\n",
    "p, roots = pol_an(S, 1, 1, 9.81)\n",
    "u = np.linspace(-2, 2, 100)\n",
    "plt.plot(u, pol(u, p))\n",
    "plt.plot(roots, pol(roots, p),'o')\n",
    "plt.grid()"
   ]
  },
  {
   "cell_type": "code",
   "execution_count": null,
   "metadata": {},
   "outputs": [],
   "source": [
    "def theta(S, t, m, l, g):\n",
    "    th0, ph0, dth0, dph0 = S\n",
    "    p_ph = np.sin(th0)**2*dph0\n",
    "    w_0 = np.sqrt(g/l)\n",
    "    k = np.cos(th0)\n",
    "    h = .5*dth0**2+p_ph**2/2/np.sin(th0)**2-w_0**2*np.cos(th0)\n",
    "    return"
   ]
  }
 ],
 "metadata": {
  "kernelspec": {
   "display_name": "Python 3",
   "language": "python",
   "name": "python3"
  },
  "language_info": {
   "codemirror_mode": {
    "name": "ipython",
    "version": 3
   },
   "file_extension": ".py",
   "mimetype": "text/x-python",
   "name": "python",
   "nbconvert_exporter": "python",
   "pygments_lexer": "ipython3",
   "version": "3.10.4"
  }
 },
 "nbformat": 4,
 "nbformat_minor": 2
}
